{
  "nbformat": 4,
  "nbformat_minor": 0,
  "metadata": {
    "colab": {
      "name": "PredictCustomerWillLeaveOrNot.ipynb",
      "provenance": [],
      "collapsed_sections": []
    },
    "kernelspec": {
      "name": "python3",
      "display_name": "Python 3"
    },
    "language_info": {
      "name": "python"
    }
  },
  "cells": [
    {
      "cell_type": "code",
      "metadata": {
        "id": "lxerRI_pW6y9"
      },
      "source": [
        "# predict customer will leave or not bank"
      ],
      "execution_count": 1,
      "outputs": []
    },
    {
      "cell_type": "code",
      "metadata": {
        "id": "5LisnfmZoKjE"
      },
      "source": [
        "# arificial neaural network"
      ],
      "execution_count": 2,
      "outputs": []
    },
    {
      "cell_type": "code",
      "metadata": {
        "id": "IWVeVTLFoOAk"
      },
      "source": [
        "# part-1 data preprocessing"
      ],
      "execution_count": 3,
      "outputs": []
    },
    {
      "cell_type": "code",
      "metadata": {
        "id": "ovDBNZPnoVwP"
      },
      "source": [
        "import numpy as np\n",
        "import pandas as pd"
      ],
      "execution_count": 5,
      "outputs": []
    },
    {
      "cell_type": "code",
      "metadata": {
        "colab": {
          "base_uri": "https://localhost:8080/",
          "height": 224
        },
        "id": "rZvmMI2gob-X",
        "outputId": "618dd841-b8c8-4fc5-d0bf-6321ea978e5f"
      },
      "source": [
        "data = pd.read_csv('/content/drive/MyDrive/PredictCustomerWillLeaveTheBank/BankCustomers.csv')\n",
        "data.head()"
      ],
      "execution_count": 8,
      "outputs": [
        {
          "output_type": "execute_result",
          "data": {
            "text/html": [
              "<div>\n",
              "<style scoped>\n",
              "    .dataframe tbody tr th:only-of-type {\n",
              "        vertical-align: middle;\n",
              "    }\n",
              "\n",
              "    .dataframe tbody tr th {\n",
              "        vertical-align: top;\n",
              "    }\n",
              "\n",
              "    .dataframe thead th {\n",
              "        text-align: right;\n",
              "    }\n",
              "</style>\n",
              "<table border=\"1\" class=\"dataframe\">\n",
              "  <thead>\n",
              "    <tr style=\"text-align: right;\">\n",
              "      <th></th>\n",
              "      <th>RowNumber</th>\n",
              "      <th>CustomerId</th>\n",
              "      <th>Surname</th>\n",
              "      <th>CreditScore</th>\n",
              "      <th>Geography</th>\n",
              "      <th>Gender</th>\n",
              "      <th>Age</th>\n",
              "      <th>Tenure</th>\n",
              "      <th>Balance</th>\n",
              "      <th>NumOfProducts</th>\n",
              "      <th>HasCrCard</th>\n",
              "      <th>IsActiveMember</th>\n",
              "      <th>EstimatedSalary</th>\n",
              "      <th>Exited</th>\n",
              "    </tr>\n",
              "  </thead>\n",
              "  <tbody>\n",
              "    <tr>\n",
              "      <th>0</th>\n",
              "      <td>1</td>\n",
              "      <td>15634602</td>\n",
              "      <td>Hargrave</td>\n",
              "      <td>619</td>\n",
              "      <td>France</td>\n",
              "      <td>Female</td>\n",
              "      <td>42</td>\n",
              "      <td>2</td>\n",
              "      <td>0.00</td>\n",
              "      <td>1</td>\n",
              "      <td>1</td>\n",
              "      <td>1</td>\n",
              "      <td>101348.88</td>\n",
              "      <td>1</td>\n",
              "    </tr>\n",
              "    <tr>\n",
              "      <th>1</th>\n",
              "      <td>2</td>\n",
              "      <td>15647311</td>\n",
              "      <td>Hill</td>\n",
              "      <td>608</td>\n",
              "      <td>Spain</td>\n",
              "      <td>Female</td>\n",
              "      <td>41</td>\n",
              "      <td>1</td>\n",
              "      <td>83807.86</td>\n",
              "      <td>1</td>\n",
              "      <td>0</td>\n",
              "      <td>1</td>\n",
              "      <td>112542.58</td>\n",
              "      <td>0</td>\n",
              "    </tr>\n",
              "    <tr>\n",
              "      <th>2</th>\n",
              "      <td>3</td>\n",
              "      <td>15619304</td>\n",
              "      <td>Onio</td>\n",
              "      <td>502</td>\n",
              "      <td>France</td>\n",
              "      <td>Female</td>\n",
              "      <td>42</td>\n",
              "      <td>8</td>\n",
              "      <td>159660.80</td>\n",
              "      <td>3</td>\n",
              "      <td>1</td>\n",
              "      <td>0</td>\n",
              "      <td>113931.57</td>\n",
              "      <td>1</td>\n",
              "    </tr>\n",
              "    <tr>\n",
              "      <th>3</th>\n",
              "      <td>4</td>\n",
              "      <td>15701354</td>\n",
              "      <td>Boni</td>\n",
              "      <td>699</td>\n",
              "      <td>France</td>\n",
              "      <td>Female</td>\n",
              "      <td>39</td>\n",
              "      <td>1</td>\n",
              "      <td>0.00</td>\n",
              "      <td>2</td>\n",
              "      <td>0</td>\n",
              "      <td>0</td>\n",
              "      <td>93826.63</td>\n",
              "      <td>0</td>\n",
              "    </tr>\n",
              "    <tr>\n",
              "      <th>4</th>\n",
              "      <td>5</td>\n",
              "      <td>15737888</td>\n",
              "      <td>Mitchell</td>\n",
              "      <td>850</td>\n",
              "      <td>Spain</td>\n",
              "      <td>Female</td>\n",
              "      <td>43</td>\n",
              "      <td>2</td>\n",
              "      <td>125510.82</td>\n",
              "      <td>1</td>\n",
              "      <td>1</td>\n",
              "      <td>1</td>\n",
              "      <td>79084.10</td>\n",
              "      <td>0</td>\n",
              "    </tr>\n",
              "  </tbody>\n",
              "</table>\n",
              "</div>"
            ],
            "text/plain": [
              "   RowNumber  CustomerId   Surname  ...  IsActiveMember EstimatedSalary Exited\n",
              "0          1    15634602  Hargrave  ...               1       101348.88      1\n",
              "1          2    15647311      Hill  ...               1       112542.58      0\n",
              "2          3    15619304      Onio  ...               0       113931.57      1\n",
              "3          4    15701354      Boni  ...               0        93826.63      0\n",
              "4          5    15737888  Mitchell  ...               1        79084.10      0\n",
              "\n",
              "[5 rows x 14 columns]"
            ]
          },
          "metadata": {
            "tags": []
          },
          "execution_count": 8
        }
      ]
    },
    {
      "cell_type": "code",
      "metadata": {
        "id": "ZkHSXnyOqIGy"
      },
      "source": [
        "# RowNumber, CustomerId, Surname are not important so will be dropped"
      ],
      "execution_count": 11,
      "outputs": []
    },
    {
      "cell_type": "code",
      "metadata": {
        "colab": {
          "base_uri": "https://localhost:8080/",
          "height": 204
        },
        "id": "W52zYSZAqjXV",
        "outputId": "046f2682-48e5-4c35-8e80-04c93381e4f2"
      },
      "source": [
        "newdata = data.drop(['RowNumber', 'CustomerId', 'Surname'], axis=1)\n",
        "newdata.head()"
      ],
      "execution_count": 13,
      "outputs": [
        {
          "output_type": "execute_result",
          "data": {
            "text/html": [
              "<div>\n",
              "<style scoped>\n",
              "    .dataframe tbody tr th:only-of-type {\n",
              "        vertical-align: middle;\n",
              "    }\n",
              "\n",
              "    .dataframe tbody tr th {\n",
              "        vertical-align: top;\n",
              "    }\n",
              "\n",
              "    .dataframe thead th {\n",
              "        text-align: right;\n",
              "    }\n",
              "</style>\n",
              "<table border=\"1\" class=\"dataframe\">\n",
              "  <thead>\n",
              "    <tr style=\"text-align: right;\">\n",
              "      <th></th>\n",
              "      <th>CreditScore</th>\n",
              "      <th>Geography</th>\n",
              "      <th>Gender</th>\n",
              "      <th>Age</th>\n",
              "      <th>Tenure</th>\n",
              "      <th>Balance</th>\n",
              "      <th>NumOfProducts</th>\n",
              "      <th>HasCrCard</th>\n",
              "      <th>IsActiveMember</th>\n",
              "      <th>EstimatedSalary</th>\n",
              "      <th>Exited</th>\n",
              "    </tr>\n",
              "  </thead>\n",
              "  <tbody>\n",
              "    <tr>\n",
              "      <th>0</th>\n",
              "      <td>619</td>\n",
              "      <td>France</td>\n",
              "      <td>Female</td>\n",
              "      <td>42</td>\n",
              "      <td>2</td>\n",
              "      <td>0.00</td>\n",
              "      <td>1</td>\n",
              "      <td>1</td>\n",
              "      <td>1</td>\n",
              "      <td>101348.88</td>\n",
              "      <td>1</td>\n",
              "    </tr>\n",
              "    <tr>\n",
              "      <th>1</th>\n",
              "      <td>608</td>\n",
              "      <td>Spain</td>\n",
              "      <td>Female</td>\n",
              "      <td>41</td>\n",
              "      <td>1</td>\n",
              "      <td>83807.86</td>\n",
              "      <td>1</td>\n",
              "      <td>0</td>\n",
              "      <td>1</td>\n",
              "      <td>112542.58</td>\n",
              "      <td>0</td>\n",
              "    </tr>\n",
              "    <tr>\n",
              "      <th>2</th>\n",
              "      <td>502</td>\n",
              "      <td>France</td>\n",
              "      <td>Female</td>\n",
              "      <td>42</td>\n",
              "      <td>8</td>\n",
              "      <td>159660.80</td>\n",
              "      <td>3</td>\n",
              "      <td>1</td>\n",
              "      <td>0</td>\n",
              "      <td>113931.57</td>\n",
              "      <td>1</td>\n",
              "    </tr>\n",
              "    <tr>\n",
              "      <th>3</th>\n",
              "      <td>699</td>\n",
              "      <td>France</td>\n",
              "      <td>Female</td>\n",
              "      <td>39</td>\n",
              "      <td>1</td>\n",
              "      <td>0.00</td>\n",
              "      <td>2</td>\n",
              "      <td>0</td>\n",
              "      <td>0</td>\n",
              "      <td>93826.63</td>\n",
              "      <td>0</td>\n",
              "    </tr>\n",
              "    <tr>\n",
              "      <th>4</th>\n",
              "      <td>850</td>\n",
              "      <td>Spain</td>\n",
              "      <td>Female</td>\n",
              "      <td>43</td>\n",
              "      <td>2</td>\n",
              "      <td>125510.82</td>\n",
              "      <td>1</td>\n",
              "      <td>1</td>\n",
              "      <td>1</td>\n",
              "      <td>79084.10</td>\n",
              "      <td>0</td>\n",
              "    </tr>\n",
              "  </tbody>\n",
              "</table>\n",
              "</div>"
            ],
            "text/plain": [
              "   CreditScore Geography  Gender  ...  IsActiveMember  EstimatedSalary  Exited\n",
              "0          619    France  Female  ...               1        101348.88       1\n",
              "1          608     Spain  Female  ...               1        112542.58       0\n",
              "2          502    France  Female  ...               0        113931.57       1\n",
              "3          699    France  Female  ...               0         93826.63       0\n",
              "4          850     Spain  Female  ...               1         79084.10       0\n",
              "\n",
              "[5 rows x 11 columns]"
            ]
          },
          "metadata": {
            "tags": []
          },
          "execution_count": 13
        }
      ]
    },
    {
      "cell_type": "code",
      "metadata": {
        "colab": {
          "base_uri": "https://localhost:8080/"
        },
        "id": "CNdQvIRXos0C",
        "outputId": "45afe261-16c3-494d-fea7-1aea6fcd1f26"
      },
      "source": [
        "newdata.info()"
      ],
      "execution_count": 16,
      "outputs": [
        {
          "output_type": "stream",
          "text": [
            "<class 'pandas.core.frame.DataFrame'>\n",
            "RangeIndex: 10000 entries, 0 to 9999\n",
            "Data columns (total 11 columns):\n",
            " #   Column           Non-Null Count  Dtype  \n",
            "---  ------           --------------  -----  \n",
            " 0   CreditScore      10000 non-null  int64  \n",
            " 1   Geography        10000 non-null  object \n",
            " 2   Gender           10000 non-null  object \n",
            " 3   Age              10000 non-null  int64  \n",
            " 4   Tenure           10000 non-null  int64  \n",
            " 5   Balance          10000 non-null  float64\n",
            " 6   NumOfProducts    10000 non-null  int64  \n",
            " 7   HasCrCard        10000 non-null  int64  \n",
            " 8   IsActiveMember   10000 non-null  int64  \n",
            " 9   EstimatedSalary  10000 non-null  float64\n",
            " 10  Exited           10000 non-null  int64  \n",
            "dtypes: float64(2), int64(7), object(2)\n",
            "memory usage: 859.5+ KB\n"
          ],
          "name": "stdout"
        }
      ]
    },
    {
      "cell_type": "code",
      "metadata": {
        "id": "qG_NVhjwq8z1"
      },
      "source": [
        "# Geography, Gender are categorical columns so will convert into numbers"
      ],
      "execution_count": 17,
      "outputs": []
    },
    {
      "cell_type": "code",
      "metadata": {
        "colab": {
          "base_uri": "https://localhost:8080/"
        },
        "id": "Qqiu7oiprLzn",
        "outputId": "b43dcd6a-baf1-4441-8f4a-bd8d938a6ae8"
      },
      "source": [
        "newdata['Gender'].unique()"
      ],
      "execution_count": 18,
      "outputs": [
        {
          "output_type": "execute_result",
          "data": {
            "text/plain": [
              "array(['Female', 'Male'], dtype=object)"
            ]
          },
          "metadata": {
            "tags": []
          },
          "execution_count": 18
        }
      ]
    },
    {
      "cell_type": "code",
      "metadata": {
        "colab": {
          "base_uri": "https://localhost:8080/"
        },
        "id": "DQVez8Zjrqvw",
        "outputId": "52d2f408-b3f6-419d-d0a7-a3d5a4e3bdab"
      },
      "source": [
        "newdata['Geography'].unique()"
      ],
      "execution_count": 19,
      "outputs": [
        {
          "output_type": "execute_result",
          "data": {
            "text/plain": [
              "array(['France', 'Spain', 'Germany'], dtype=object)"
            ]
          },
          "metadata": {
            "tags": []
          },
          "execution_count": 19
        }
      ]
    },
    {
      "cell_type": "code",
      "metadata": {
        "id": "phBq8pu5rvUX"
      },
      "source": [
        "gender = pd.get_dummies(newdata['Gender'], drop_first=True)\n",
        "states = pd.get_dummies(newdata['Geography'], drop_first=True)"
      ],
      "execution_count": 20,
      "outputs": []
    },
    {
      "cell_type": "code",
      "metadata": {
        "id": "h8kJbwYmsNJm"
      },
      "source": [
        "finaldata = pd.concat([newdata,gender, states], axis=1)"
      ],
      "execution_count": 25,
      "outputs": []
    },
    {
      "cell_type": "code",
      "metadata": {
        "id": "qtLnE5Fuw3vz"
      },
      "source": [
        "finaldata = finaldata.drop(['Gender', 'Geography'], axis=1)"
      ],
      "execution_count": 39,
      "outputs": []
    },
    {
      "cell_type": "code",
      "metadata": {
        "colab": {
          "base_uri": "https://localhost:8080/",
          "height": 204
        },
        "id": "eKF5Vd-BsPZT",
        "outputId": "37676713-4240-4b08-f243-376d39b43cbf"
      },
      "source": [
        "finaldata.head()"
      ],
      "execution_count": 41,
      "outputs": [
        {
          "output_type": "execute_result",
          "data": {
            "text/html": [
              "<div>\n",
              "<style scoped>\n",
              "    .dataframe tbody tr th:only-of-type {\n",
              "        vertical-align: middle;\n",
              "    }\n",
              "\n",
              "    .dataframe tbody tr th {\n",
              "        vertical-align: top;\n",
              "    }\n",
              "\n",
              "    .dataframe thead th {\n",
              "        text-align: right;\n",
              "    }\n",
              "</style>\n",
              "<table border=\"1\" class=\"dataframe\">\n",
              "  <thead>\n",
              "    <tr style=\"text-align: right;\">\n",
              "      <th></th>\n",
              "      <th>CreditScore</th>\n",
              "      <th>Age</th>\n",
              "      <th>Tenure</th>\n",
              "      <th>Balance</th>\n",
              "      <th>NumOfProducts</th>\n",
              "      <th>HasCrCard</th>\n",
              "      <th>IsActiveMember</th>\n",
              "      <th>EstimatedSalary</th>\n",
              "      <th>Exited</th>\n",
              "      <th>Male</th>\n",
              "      <th>Germany</th>\n",
              "      <th>Spain</th>\n",
              "    </tr>\n",
              "  </thead>\n",
              "  <tbody>\n",
              "    <tr>\n",
              "      <th>0</th>\n",
              "      <td>619</td>\n",
              "      <td>42</td>\n",
              "      <td>2</td>\n",
              "      <td>0.00</td>\n",
              "      <td>1</td>\n",
              "      <td>1</td>\n",
              "      <td>1</td>\n",
              "      <td>101348.88</td>\n",
              "      <td>1</td>\n",
              "      <td>0</td>\n",
              "      <td>0</td>\n",
              "      <td>0</td>\n",
              "    </tr>\n",
              "    <tr>\n",
              "      <th>1</th>\n",
              "      <td>608</td>\n",
              "      <td>41</td>\n",
              "      <td>1</td>\n",
              "      <td>83807.86</td>\n",
              "      <td>1</td>\n",
              "      <td>0</td>\n",
              "      <td>1</td>\n",
              "      <td>112542.58</td>\n",
              "      <td>0</td>\n",
              "      <td>0</td>\n",
              "      <td>0</td>\n",
              "      <td>1</td>\n",
              "    </tr>\n",
              "    <tr>\n",
              "      <th>2</th>\n",
              "      <td>502</td>\n",
              "      <td>42</td>\n",
              "      <td>8</td>\n",
              "      <td>159660.80</td>\n",
              "      <td>3</td>\n",
              "      <td>1</td>\n",
              "      <td>0</td>\n",
              "      <td>113931.57</td>\n",
              "      <td>1</td>\n",
              "      <td>0</td>\n",
              "      <td>0</td>\n",
              "      <td>0</td>\n",
              "    </tr>\n",
              "    <tr>\n",
              "      <th>3</th>\n",
              "      <td>699</td>\n",
              "      <td>39</td>\n",
              "      <td>1</td>\n",
              "      <td>0.00</td>\n",
              "      <td>2</td>\n",
              "      <td>0</td>\n",
              "      <td>0</td>\n",
              "      <td>93826.63</td>\n",
              "      <td>0</td>\n",
              "      <td>0</td>\n",
              "      <td>0</td>\n",
              "      <td>0</td>\n",
              "    </tr>\n",
              "    <tr>\n",
              "      <th>4</th>\n",
              "      <td>850</td>\n",
              "      <td>43</td>\n",
              "      <td>2</td>\n",
              "      <td>125510.82</td>\n",
              "      <td>1</td>\n",
              "      <td>1</td>\n",
              "      <td>1</td>\n",
              "      <td>79084.10</td>\n",
              "      <td>0</td>\n",
              "      <td>0</td>\n",
              "      <td>0</td>\n",
              "      <td>1</td>\n",
              "    </tr>\n",
              "  </tbody>\n",
              "</table>\n",
              "</div>"
            ],
            "text/plain": [
              "   CreditScore  Age  Tenure    Balance  ...  Exited  Male  Germany  Spain\n",
              "0          619   42       2       0.00  ...       1     0        0      0\n",
              "1          608   41       1   83807.86  ...       0     0        0      1\n",
              "2          502   42       8  159660.80  ...       1     0        0      0\n",
              "3          699   39       1       0.00  ...       0     0        0      0\n",
              "4          850   43       2  125510.82  ...       0     0        0      1\n",
              "\n",
              "[5 rows x 12 columns]"
            ]
          },
          "metadata": {
            "tags": []
          },
          "execution_count": 41
        }
      ]
    },
    {
      "cell_type": "code",
      "metadata": {
        "id": "QUuS2eSSt5TK"
      },
      "source": [
        "from sklearn.model_selection import train_test_split"
      ],
      "execution_count": 42,
      "outputs": []
    },
    {
      "cell_type": "code",
      "metadata": {
        "id": "8QJdCKL_vG8H"
      },
      "source": [
        "X = finaldata.drop('Exited', axis=1)\n",
        "y = finaldata['Exited']"
      ],
      "execution_count": 43,
      "outputs": []
    },
    {
      "cell_type": "code",
      "metadata": {
        "colab": {
          "base_uri": "https://localhost:8080/",
          "height": 204
        },
        "id": "FwUuNUZKvXRO",
        "outputId": "7d16d753-37a2-45d2-a3d1-62767cadb626"
      },
      "source": [
        "X.head()"
      ],
      "execution_count": 44,
      "outputs": [
        {
          "output_type": "execute_result",
          "data": {
            "text/html": [
              "<div>\n",
              "<style scoped>\n",
              "    .dataframe tbody tr th:only-of-type {\n",
              "        vertical-align: middle;\n",
              "    }\n",
              "\n",
              "    .dataframe tbody tr th {\n",
              "        vertical-align: top;\n",
              "    }\n",
              "\n",
              "    .dataframe thead th {\n",
              "        text-align: right;\n",
              "    }\n",
              "</style>\n",
              "<table border=\"1\" class=\"dataframe\">\n",
              "  <thead>\n",
              "    <tr style=\"text-align: right;\">\n",
              "      <th></th>\n",
              "      <th>CreditScore</th>\n",
              "      <th>Age</th>\n",
              "      <th>Tenure</th>\n",
              "      <th>Balance</th>\n",
              "      <th>NumOfProducts</th>\n",
              "      <th>HasCrCard</th>\n",
              "      <th>IsActiveMember</th>\n",
              "      <th>EstimatedSalary</th>\n",
              "      <th>Male</th>\n",
              "      <th>Germany</th>\n",
              "      <th>Spain</th>\n",
              "    </tr>\n",
              "  </thead>\n",
              "  <tbody>\n",
              "    <tr>\n",
              "      <th>0</th>\n",
              "      <td>619</td>\n",
              "      <td>42</td>\n",
              "      <td>2</td>\n",
              "      <td>0.00</td>\n",
              "      <td>1</td>\n",
              "      <td>1</td>\n",
              "      <td>1</td>\n",
              "      <td>101348.88</td>\n",
              "      <td>0</td>\n",
              "      <td>0</td>\n",
              "      <td>0</td>\n",
              "    </tr>\n",
              "    <tr>\n",
              "      <th>1</th>\n",
              "      <td>608</td>\n",
              "      <td>41</td>\n",
              "      <td>1</td>\n",
              "      <td>83807.86</td>\n",
              "      <td>1</td>\n",
              "      <td>0</td>\n",
              "      <td>1</td>\n",
              "      <td>112542.58</td>\n",
              "      <td>0</td>\n",
              "      <td>0</td>\n",
              "      <td>1</td>\n",
              "    </tr>\n",
              "    <tr>\n",
              "      <th>2</th>\n",
              "      <td>502</td>\n",
              "      <td>42</td>\n",
              "      <td>8</td>\n",
              "      <td>159660.80</td>\n",
              "      <td>3</td>\n",
              "      <td>1</td>\n",
              "      <td>0</td>\n",
              "      <td>113931.57</td>\n",
              "      <td>0</td>\n",
              "      <td>0</td>\n",
              "      <td>0</td>\n",
              "    </tr>\n",
              "    <tr>\n",
              "      <th>3</th>\n",
              "      <td>699</td>\n",
              "      <td>39</td>\n",
              "      <td>1</td>\n",
              "      <td>0.00</td>\n",
              "      <td>2</td>\n",
              "      <td>0</td>\n",
              "      <td>0</td>\n",
              "      <td>93826.63</td>\n",
              "      <td>0</td>\n",
              "      <td>0</td>\n",
              "      <td>0</td>\n",
              "    </tr>\n",
              "    <tr>\n",
              "      <th>4</th>\n",
              "      <td>850</td>\n",
              "      <td>43</td>\n",
              "      <td>2</td>\n",
              "      <td>125510.82</td>\n",
              "      <td>1</td>\n",
              "      <td>1</td>\n",
              "      <td>1</td>\n",
              "      <td>79084.10</td>\n",
              "      <td>0</td>\n",
              "      <td>0</td>\n",
              "      <td>1</td>\n",
              "    </tr>\n",
              "  </tbody>\n",
              "</table>\n",
              "</div>"
            ],
            "text/plain": [
              "   CreditScore  Age  Tenure    Balance  ...  EstimatedSalary  Male  Germany  Spain\n",
              "0          619   42       2       0.00  ...        101348.88     0        0      0\n",
              "1          608   41       1   83807.86  ...        112542.58     0        0      1\n",
              "2          502   42       8  159660.80  ...        113931.57     0        0      0\n",
              "3          699   39       1       0.00  ...         93826.63     0        0      0\n",
              "4          850   43       2  125510.82  ...         79084.10     0        0      1\n",
              "\n",
              "[5 rows x 11 columns]"
            ]
          },
          "metadata": {
            "tags": []
          },
          "execution_count": 44
        }
      ]
    },
    {
      "cell_type": "code",
      "metadata": {
        "colab": {
          "base_uri": "https://localhost:8080/"
        },
        "id": "eKaPLLRnvc7g",
        "outputId": "f2515285-3984-4990-c1c6-fb3fdeb8efd9"
      },
      "source": [
        "y.head()"
      ],
      "execution_count": 45,
      "outputs": [
        {
          "output_type": "execute_result",
          "data": {
            "text/plain": [
              "0    1\n",
              "1    0\n",
              "2    1\n",
              "3    0\n",
              "4    0\n",
              "Name: Exited, dtype: int64"
            ]
          },
          "metadata": {
            "tags": []
          },
          "execution_count": 45
        }
      ]
    },
    {
      "cell_type": "code",
      "metadata": {
        "id": "LzwK_kVzvgfi"
      },
      "source": [
        "X_train, X_test, y_train, y_test = train = train_test_split(X, y, test_size=0.2, random_state=0)"
      ],
      "execution_count": 46,
      "outputs": []
    },
    {
      "cell_type": "code",
      "metadata": {
        "id": "kP_VjIN6v4Kv"
      },
      "source": [
        "from sklearn.preprocessing import StandardScaler\n",
        "sc = StandardScaler()\n",
        "\n",
        "X_train = sc.fit_transform(X_train)\n",
        "X_test = sc.transform(X_test)"
      ],
      "execution_count": 47,
      "outputs": []
    },
    {
      "cell_type": "code",
      "metadata": {
        "id": "HWaQM4dhwwSV"
      },
      "source": [
        "# part-2 making a model"
      ],
      "execution_count": 48,
      "outputs": []
    },
    {
      "cell_type": "code",
      "metadata": {
        "id": "PG_A5mCtxTkJ"
      },
      "source": [
        "import keras\n",
        "from keras.models import Sequential\n",
        "from keras.layers import Dense"
      ],
      "execution_count": 49,
      "outputs": []
    },
    {
      "cell_type": "code",
      "metadata": {
        "id": "19rJeZ65xhPV"
      },
      "source": [
        "classifier = Sequential()"
      ],
      "execution_count": 50,
      "outputs": []
    },
    {
      "cell_type": "code",
      "metadata": {
        "id": "TRBcusj9xmk3"
      },
      "source": [
        "classifier.add(Dense(activation='relu', input_dim=11, units=6, kernel_initializer='uniform'))"
      ],
      "execution_count": 51,
      "outputs": []
    },
    {
      "cell_type": "code",
      "metadata": {
        "id": "hk150bhjyqmc"
      },
      "source": [
        "classifier.add(Dense(activation='relu', kernel_initializer='uniform', units=6))"
      ],
      "execution_count": 52,
      "outputs": []
    },
    {
      "cell_type": "code",
      "metadata": {
        "id": "fwkzt8pZy5yL"
      },
      "source": [
        "classifier.add(Dense(activation='sigmoid', kernel_initializer='uniform', units=1))"
      ],
      "execution_count": 53,
      "outputs": []
    },
    {
      "cell_type": "code",
      "metadata": {
        "id": "-I0ItES-zKX5"
      },
      "source": [
        "classifier.compile(optimizer='adam', loss='binary_crossentropy', metrics=['accuracy'])"
      ],
      "execution_count": 54,
      "outputs": []
    },
    {
      "cell_type": "code",
      "metadata": {
        "colab": {
          "base_uri": "https://localhost:8080/"
        },
        "id": "Tyb890V-zYH2",
        "outputId": "d431dc10-2194-40f3-ed9d-f17489ad4964"
      },
      "source": [
        "classifier.fit(X_train, y_train, batch_size=10, epochs=100)"
      ],
      "execution_count": 55,
      "outputs": [
        {
          "output_type": "stream",
          "text": [
            "Epoch 1/100\n",
            "800/800 [==============================] - 1s 951us/step - loss: 0.5748 - accuracy: 0.7982\n",
            "Epoch 2/100\n",
            "800/800 [==============================] - 1s 1ms/step - loss: 0.4427 - accuracy: 0.7865\n",
            "Epoch 3/100\n",
            "800/800 [==============================] - 1s 975us/step - loss: 0.4287 - accuracy: 0.7972\n",
            "Epoch 4/100\n",
            "800/800 [==============================] - 1s 982us/step - loss: 0.4194 - accuracy: 0.7985\n",
            "Epoch 5/100\n",
            "800/800 [==============================] - 1s 946us/step - loss: 0.4226 - accuracy: 0.8183\n",
            "Epoch 6/100\n",
            "800/800 [==============================] - 1s 956us/step - loss: 0.4214 - accuracy: 0.8212\n",
            "Epoch 7/100\n",
            "800/800 [==============================] - 1s 988us/step - loss: 0.4181 - accuracy: 0.8284\n",
            "Epoch 8/100\n",
            "800/800 [==============================] - 1s 946us/step - loss: 0.4166 - accuracy: 0.8243\n",
            "Epoch 9/100\n",
            "800/800 [==============================] - 1s 957us/step - loss: 0.4210 - accuracy: 0.8264\n",
            "Epoch 10/100\n",
            "800/800 [==============================] - 1s 1ms/step - loss: 0.4111 - accuracy: 0.8337\n",
            "Epoch 11/100\n",
            "800/800 [==============================] - 1s 945us/step - loss: 0.4032 - accuracy: 0.8410\n",
            "Epoch 12/100\n",
            "800/800 [==============================] - 1s 974us/step - loss: 0.4013 - accuracy: 0.8398\n",
            "Epoch 13/100\n",
            "800/800 [==============================] - 1s 946us/step - loss: 0.4081 - accuracy: 0.8319\n",
            "Epoch 14/100\n",
            "800/800 [==============================] - 1s 956us/step - loss: 0.3973 - accuracy: 0.8392\n",
            "Epoch 15/100\n",
            "800/800 [==============================] - 1s 966us/step - loss: 0.3994 - accuracy: 0.8392\n",
            "Epoch 16/100\n",
            "800/800 [==============================] - 1s 962us/step - loss: 0.3937 - accuracy: 0.8417\n",
            "Epoch 17/100\n",
            "800/800 [==============================] - 1s 938us/step - loss: 0.4087 - accuracy: 0.8334\n",
            "Epoch 18/100\n",
            "800/800 [==============================] - 1s 967us/step - loss: 0.4089 - accuracy: 0.8295\n",
            "Epoch 19/100\n",
            "800/800 [==============================] - 1s 965us/step - loss: 0.4019 - accuracy: 0.8362\n",
            "Epoch 20/100\n",
            "800/800 [==============================] - 1s 984us/step - loss: 0.4090 - accuracy: 0.8351\n",
            "Epoch 21/100\n",
            "800/800 [==============================] - 1s 993us/step - loss: 0.4049 - accuracy: 0.8353\n",
            "Epoch 22/100\n",
            "800/800 [==============================] - 1s 971us/step - loss: 0.4077 - accuracy: 0.8328\n",
            "Epoch 23/100\n",
            "800/800 [==============================] - 1s 941us/step - loss: 0.4050 - accuracy: 0.8363\n",
            "Epoch 24/100\n",
            "800/800 [==============================] - 1s 998us/step - loss: 0.4155 - accuracy: 0.8290\n",
            "Epoch 25/100\n",
            "800/800 [==============================] - 1s 976us/step - loss: 0.3943 - accuracy: 0.8412\n",
            "Epoch 26/100\n",
            "800/800 [==============================] - 1s 986us/step - loss: 0.4174 - accuracy: 0.8266\n",
            "Epoch 27/100\n",
            "800/800 [==============================] - 1s 965us/step - loss: 0.3960 - accuracy: 0.8362\n",
            "Epoch 28/100\n",
            "800/800 [==============================] - 1s 981us/step - loss: 0.3952 - accuracy: 0.8403\n",
            "Epoch 29/100\n",
            "800/800 [==============================] - 1s 974us/step - loss: 0.4055 - accuracy: 0.8316\n",
            "Epoch 30/100\n",
            "800/800 [==============================] - 1s 973us/step - loss: 0.3966 - accuracy: 0.8385\n",
            "Epoch 31/100\n",
            "800/800 [==============================] - 1s 976us/step - loss: 0.4125 - accuracy: 0.8272\n",
            "Epoch 32/100\n",
            "800/800 [==============================] - 1s 993us/step - loss: 0.4024 - accuracy: 0.8337\n",
            "Epoch 33/100\n",
            "800/800 [==============================] - 1s 969us/step - loss: 0.4036 - accuracy: 0.8383\n",
            "Epoch 34/100\n",
            "800/800 [==============================] - 1s 985us/step - loss: 0.4064 - accuracy: 0.8296\n",
            "Epoch 35/100\n",
            "800/800 [==============================] - 1s 965us/step - loss: 0.4013 - accuracy: 0.8344\n",
            "Epoch 36/100\n",
            "800/800 [==============================] - 1s 949us/step - loss: 0.4078 - accuracy: 0.8310\n",
            "Epoch 37/100\n",
            "800/800 [==============================] - 1s 1ms/step - loss: 0.4113 - accuracy: 0.8332\n",
            "Epoch 38/100\n",
            "800/800 [==============================] - 1s 975us/step - loss: 0.4018 - accuracy: 0.8343\n",
            "Epoch 39/100\n",
            "800/800 [==============================] - 1s 959us/step - loss: 0.3898 - accuracy: 0.8389\n",
            "Epoch 40/100\n",
            "800/800 [==============================] - 1s 974us/step - loss: 0.3953 - accuracy: 0.8413\n",
            "Epoch 41/100\n",
            "800/800 [==============================] - 1s 983us/step - loss: 0.4076 - accuracy: 0.8344\n",
            "Epoch 42/100\n",
            "800/800 [==============================] - 1s 974us/step - loss: 0.3917 - accuracy: 0.8387\n",
            "Epoch 43/100\n",
            "800/800 [==============================] - 1s 978us/step - loss: 0.4014 - accuracy: 0.8364\n",
            "Epoch 44/100\n",
            "800/800 [==============================] - 1s 977us/step - loss: 0.4005 - accuracy: 0.8400\n",
            "Epoch 45/100\n",
            "800/800 [==============================] - 1s 985us/step - loss: 0.3993 - accuracy: 0.8364\n",
            "Epoch 46/100\n",
            "800/800 [==============================] - 1s 961us/step - loss: 0.3974 - accuracy: 0.8361\n",
            "Epoch 47/100\n",
            "800/800 [==============================] - 1s 976us/step - loss: 0.4069 - accuracy: 0.8348\n",
            "Epoch 48/100\n",
            "800/800 [==============================] - 1s 979us/step - loss: 0.3971 - accuracy: 0.8388\n",
            "Epoch 49/100\n",
            "800/800 [==============================] - 1s 968us/step - loss: 0.4089 - accuracy: 0.8283\n",
            "Epoch 50/100\n",
            "800/800 [==============================] - 1s 977us/step - loss: 0.4034 - accuracy: 0.8355\n",
            "Epoch 51/100\n",
            "800/800 [==============================] - 1s 977us/step - loss: 0.4134 - accuracy: 0.8275\n",
            "Epoch 52/100\n",
            "800/800 [==============================] - 1s 968us/step - loss: 0.3929 - accuracy: 0.8395\n",
            "Epoch 53/100\n",
            "800/800 [==============================] - 1s 970us/step - loss: 0.4100 - accuracy: 0.8335\n",
            "Epoch 54/100\n",
            "800/800 [==============================] - 1s 960us/step - loss: 0.3990 - accuracy: 0.8397\n",
            "Epoch 55/100\n",
            "800/800 [==============================] - 1s 979us/step - loss: 0.3990 - accuracy: 0.8355\n",
            "Epoch 56/100\n",
            "800/800 [==============================] - 1s 969us/step - loss: 0.4029 - accuracy: 0.8344\n",
            "Epoch 57/100\n",
            "800/800 [==============================] - 1s 974us/step - loss: 0.4104 - accuracy: 0.8292\n",
            "Epoch 58/100\n",
            "800/800 [==============================] - 1s 968us/step - loss: 0.4033 - accuracy: 0.8359\n",
            "Epoch 59/100\n",
            "800/800 [==============================] - 1s 972us/step - loss: 0.3936 - accuracy: 0.8399\n",
            "Epoch 60/100\n",
            "800/800 [==============================] - 1s 943us/step - loss: 0.4002 - accuracy: 0.8343\n",
            "Epoch 61/100\n",
            "800/800 [==============================] - 1s 961us/step - loss: 0.3988 - accuracy: 0.8322\n",
            "Epoch 62/100\n",
            "800/800 [==============================] - 1s 973us/step - loss: 0.3971 - accuracy: 0.8336\n",
            "Epoch 63/100\n",
            "800/800 [==============================] - 1s 977us/step - loss: 0.3966 - accuracy: 0.8363\n",
            "Epoch 64/100\n",
            "800/800 [==============================] - 1s 987us/step - loss: 0.4014 - accuracy: 0.8383\n",
            "Epoch 65/100\n",
            "800/800 [==============================] - 1s 991us/step - loss: 0.3953 - accuracy: 0.8391\n",
            "Epoch 66/100\n",
            "800/800 [==============================] - 1s 964us/step - loss: 0.3890 - accuracy: 0.8431\n",
            "Epoch 67/100\n",
            "800/800 [==============================] - 1s 966us/step - loss: 0.3903 - accuracy: 0.8441\n",
            "Epoch 68/100\n",
            "800/800 [==============================] - 1s 982us/step - loss: 0.3894 - accuracy: 0.8432\n",
            "Epoch 69/100\n",
            "800/800 [==============================] - 1s 969us/step - loss: 0.4023 - accuracy: 0.8377\n",
            "Epoch 70/100\n",
            "800/800 [==============================] - 1s 992us/step - loss: 0.3999 - accuracy: 0.8351\n",
            "Epoch 71/100\n",
            "800/800 [==============================] - 1s 979us/step - loss: 0.3900 - accuracy: 0.8448\n",
            "Epoch 72/100\n",
            "800/800 [==============================] - 1s 958us/step - loss: 0.3972 - accuracy: 0.8360\n",
            "Epoch 73/100\n",
            "800/800 [==============================] - 1s 996us/step - loss: 0.3916 - accuracy: 0.8443\n",
            "Epoch 74/100\n",
            "800/800 [==============================] - 1s 984us/step - loss: 0.3965 - accuracy: 0.8364\n",
            "Epoch 75/100\n",
            "800/800 [==============================] - 1s 972us/step - loss: 0.3999 - accuracy: 0.8369\n",
            "Epoch 76/100\n",
            "800/800 [==============================] - 1s 998us/step - loss: 0.3878 - accuracy: 0.8417\n",
            "Epoch 77/100\n",
            "800/800 [==============================] - 1s 976us/step - loss: 0.3880 - accuracy: 0.8419\n",
            "Epoch 78/100\n",
            "800/800 [==============================] - 1s 977us/step - loss: 0.3897 - accuracy: 0.8402\n",
            "Epoch 79/100\n",
            "800/800 [==============================] - 1s 982us/step - loss: 0.3951 - accuracy: 0.8382\n",
            "Epoch 80/100\n",
            "800/800 [==============================] - 1s 970us/step - loss: 0.3870 - accuracy: 0.8436\n",
            "Epoch 81/100\n",
            "800/800 [==============================] - 1s 999us/step - loss: 0.3951 - accuracy: 0.8395\n",
            "Epoch 82/100\n",
            "800/800 [==============================] - 1s 970us/step - loss: 0.4110 - accuracy: 0.8279\n",
            "Epoch 83/100\n",
            "800/800 [==============================] - 1s 974us/step - loss: 0.3986 - accuracy: 0.8374\n",
            "Epoch 84/100\n",
            "800/800 [==============================] - 1s 993us/step - loss: 0.4086 - accuracy: 0.8301\n",
            "Epoch 85/100\n",
            "800/800 [==============================] - 1s 986us/step - loss: 0.4016 - accuracy: 0.8334\n",
            "Epoch 86/100\n",
            "800/800 [==============================] - 1s 984us/step - loss: 0.3961 - accuracy: 0.8342\n",
            "Epoch 87/100\n",
            "800/800 [==============================] - 1s 985us/step - loss: 0.3983 - accuracy: 0.8391\n",
            "Epoch 88/100\n",
            "800/800 [==============================] - 1s 1ms/step - loss: 0.3999 - accuracy: 0.8392\n",
            "Epoch 89/100\n",
            "800/800 [==============================] - 1s 970us/step - loss: 0.4016 - accuracy: 0.8314\n",
            "Epoch 90/100\n",
            "800/800 [==============================] - 1s 1ms/step - loss: 0.3904 - accuracy: 0.8386\n",
            "Epoch 91/100\n",
            "800/800 [==============================] - 1s 990us/step - loss: 0.3946 - accuracy: 0.8376\n",
            "Epoch 92/100\n",
            "800/800 [==============================] - 1s 977us/step - loss: 0.3851 - accuracy: 0.8442\n",
            "Epoch 93/100\n",
            "800/800 [==============================] - 1s 974us/step - loss: 0.4052 - accuracy: 0.8349\n",
            "Epoch 94/100\n",
            "800/800 [==============================] - 1s 982us/step - loss: 0.3957 - accuracy: 0.8349\n",
            "Epoch 95/100\n",
            "800/800 [==============================] - 1s 979us/step - loss: 0.4119 - accuracy: 0.8320\n",
            "Epoch 96/100\n",
            "800/800 [==============================] - 1s 967us/step - loss: 0.3960 - accuracy: 0.8354\n",
            "Epoch 97/100\n",
            "800/800 [==============================] - 1s 986us/step - loss: 0.3980 - accuracy: 0.8335\n",
            "Epoch 98/100\n",
            "800/800 [==============================] - 1s 984us/step - loss: 0.3868 - accuracy: 0.8426\n",
            "Epoch 99/100\n",
            "800/800 [==============================] - 1s 966us/step - loss: 0.3990 - accuracy: 0.8386\n",
            "Epoch 100/100\n",
            "800/800 [==============================] - 1s 978us/step - loss: 0.3908 - accuracy: 0.8412\n"
          ],
          "name": "stdout"
        },
        {
          "output_type": "execute_result",
          "data": {
            "text/plain": [
              "<tensorflow.python.keras.callbacks.History at 0x7feb8f61f610>"
            ]
          },
          "metadata": {
            "tags": []
          },
          "execution_count": 55
        }
      ]
    },
    {
      "cell_type": "code",
      "metadata": {
        "id": "hAQWkBDwz0xZ"
      },
      "source": [
        "y_pred = classifier.predict(X_test)\n",
        "y_pred = (y_pred > 0.5)\n",
        "\n",
        "# Making the Confusion Matrix\n",
        "from sklearn.metrics import confusion_matrix,accuracy_score\n",
        "cm = confusion_matrix(y_test, y_pred)\n",
        "accuracy=accuracy_score(y_test,y_pred)"
      ],
      "execution_count": 56,
      "outputs": []
    },
    {
      "cell_type": "code",
      "metadata": {
        "colab": {
          "base_uri": "https://localhost:8080/"
        },
        "id": "EEprUC3T0Rab",
        "outputId": "99384b40-3ed4-4ae5-d77d-db53a410824d"
      },
      "source": [
        "print(accuracy)"
      ],
      "execution_count": 58,
      "outputs": [
        {
          "output_type": "stream",
          "text": [
            "0.8415\n"
          ],
          "name": "stdout"
        }
      ]
    },
    {
      "cell_type": "code",
      "metadata": {
        "colab": {
          "base_uri": "https://localhost:8080/"
        },
        "id": "UarmHEs50UpL",
        "outputId": "f6f0f052-8263-48a6-ef8e-6edd2abc0316"
      },
      "source": [
        "print(cm)"
      ],
      "execution_count": 60,
      "outputs": [
        {
          "output_type": "stream",
          "text": [
            "[[1530   65]\n",
            " [ 252  153]]\n"
          ],
          "name": "stdout"
        }
      ]
    },
    {
      "cell_type": "code",
      "metadata": {
        "id": "76VoQbMd0Z2G"
      },
      "source": [
        ""
      ],
      "execution_count": null,
      "outputs": []
    }
  ]
}